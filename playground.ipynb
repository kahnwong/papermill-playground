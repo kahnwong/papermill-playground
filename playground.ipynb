{
 "cells": [
  {
   "cell_type": "code",
   "execution_count": 1,
   "id": "2490ecef-4c7e-456a-808b-99e0c383e35f",
   "metadata": {
    "tags": [
     "parameters"
    ]
   },
   "outputs": [],
   "source": [
    "foo = \"bar\""
   ]
  },
  {
   "cell_type": "code",
   "execution_count": 2,
   "id": "6412a5af-8cfc-46ab-b88f-440c114bd102",
   "metadata": {},
   "outputs": [
    {
     "data": {
      "text/plain": [
       "{'foo': {'name': 'foo',\n",
       "  'inferred_type_name': 'None',\n",
       "  'default': '\"bar\"',\n",
       "  'help': ''}}"
      ]
     },
     "execution_count": 2,
     "metadata": {},
     "output_type": "execute_result"
    }
   ],
   "source": [
    "import papermill as pm\n",
    "\n",
    "pm.inspect_notebook(\"./playground.ipynb\")"
   ]
  },
  {
   "cell_type": "code",
   "execution_count": null,
   "id": "5e801054-0412-4320-85e7-ce91e3ae9ad8",
   "metadata": {},
   "outputs": [
    {
     "name": "stderr",
     "output_type": "stream",
     "text": [
      "Black is not installed, parameters wont be formatted\n",
      "/Users/kahnwong/.local/share/virtualenvs/papermill-playground-VAMpUH1E/lib/python3.10/site-packages/tqdm/auto.py:22: TqdmWarning: IProgress not found. Please update jupyter and ipywidgets. See https://ipywidgets.readthedocs.io/en/stable/user_install.html\n",
      "  from .autonotebook import tqdm as notebook_tqdm\n",
      "Executing:  75%|█████████████████████████████████████████████████████████████████████████████████████████████████████████████████████████████████████████████                                               | 3/4 [00:00<00:00,  3.72cell/s]"
     ]
    }
   ],
   "source": [
    "pm.execute_notebook(\"./playground.ipynb\", \"./output.ipynb\", parameters=dict(foo=\"baz\"))"
   ]
  },
  {
   "cell_type": "code",
   "execution_count": null,
   "id": "6b477067-8cfb-489a-a185-98db7ce7a82d",
   "metadata": {},
   "outputs": [],
   "source": []
  }
 ],
 "metadata": {
  "kernelspec": {
   "display_name": "Python 3 (ipykernel)",
   "language": "python",
   "name": "python3"
  },
  "language_info": {
   "codemirror_mode": {
    "name": "ipython",
    "version": 3
   },
   "file_extension": ".py",
   "mimetype": "text/x-python",
   "name": "python",
   "nbconvert_exporter": "python",
   "pygments_lexer": "ipython3",
   "version": "3.10.8"
  }
 },
 "nbformat": 4,
 "nbformat_minor": 5
}
